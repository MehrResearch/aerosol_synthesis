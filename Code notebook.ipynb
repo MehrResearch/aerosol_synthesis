{
 "cells": [
  {
   "cell_type": "markdown",
   "metadata": {},
   "source": [
    "# Computational imaging of aerosol reactivity outcomes"
   ]
  },
  {
   "cell_type": "markdown",
   "metadata": {},
   "source": [
    "Run the following cell if you haven't yet downloaded the microscopy data, e.g. if running in Colab."
   ]
  },
  {
   "cell_type": "code",
   "execution_count": null,
   "metadata": {},
   "outputs": [],
   "source": [
    "!wget -O data.tar.gz 'https://zenodo.org/records/15632556/files/data.tar.gz?download=1'\n",
    "!tar -xzf data.tar.gz\n",
    "!touch .env"
   ]
  },
  {
   "cell_type": "code",
   "execution_count": null,
   "metadata": {},
   "outputs": [],
   "source": [
    "# Apply environment variables from .env file\n",
    "from os import environ\n",
    "from pathlib import Path\n",
    "\n",
    "for line in open('.env', 'r'):\n",
    "    line = line.strip()\n",
    "    if not line or line.startswith('#') or '=' not in line:\n",
    "        continue\n",
    "    var, val = line.split('=', 1)\n",
    "    environ[var] = val"
   ]
  },
  {
   "cell_type": "code",
   "execution_count": null,
   "metadata": {},
   "outputs": [],
   "source": [
    "import gzip\n",
    "import math\n",
    "import pickle\n",
    "import re\n",
    "\n",
    "import matplotlib\n",
    "import matplotlib.gridspec as gridspec\n",
    "import matplotlib.patches as patches\n",
    "import matplotlib.pyplot as plt\n",
    "import numpy as np\n",
    "import pandas as pd\n",
    "import PIL\n",
    "import seaborn as sns\n",
    "from ipywidgets import Button, Layout, interact\n",
    "from scipy.stats import multivariate_normal, norm\n",
    "from skimage.measure import perimeter\n",
    "from sklearn.mixture import GaussianMixture\n",
    "from tqdm.auto import tqdm\n",
    "from transformers import pipeline\n",
    "\n",
    "N_CLUSTERS = 3\n",
    "DATA_HOME = Path(environ['DATA_HOME'])\n",
    "\n",
    "sns.set_theme(style=\"ticks\", context=\"notebook\", font_scale=1.2, font=\"Arial\")\n",
    "matplotlib.rcParams[\"svg.fonttype\"] = \"none\""
   ]
  },
  {
   "cell_type": "code",
   "execution_count": null,
   "metadata": {},
   "outputs": [],
   "source": [
    "sample_image_files = sorted(DATA_HOME.glob('**/*.jpg'))\n",
    "sample_image_files = {p.stem: p for p in sample_image_files}\n",
    "sample_image_files"
   ]
  },
  {
   "cell_type": "code",
   "execution_count": null,
   "metadata": {},
   "outputs": [],
   "source": [
    "imgs_RGB = {id: PIL.Image.open(path) for id, path in tqdm(sample_image_files.items())}\n",
    "# scaled down to 1/4 size\n",
    "imgs_small_RGB = {id: img.resize((img.width // 4, img.height // 4)) for id, img in tqdm(imgs_RGB.items())}\n",
    "imgs_small_HSV = {id: img.convert('HSV') for id, img in tqdm(imgs_small_RGB.items())}\n",
    "imgs_small_LAB = {id: img.convert('LAB') for id, img in tqdm(imgs_small_RGB.items())}"
   ]
  },
  {
   "cell_type": "code",
   "execution_count": null,
   "metadata": {},
   "outputs": [],
   "source": [
    "def save_button(fn, *args, **kwargs):\n",
    "    def save(fn):\n",
    "        for sample_id in tqdm(imgs_small_RGB):\n",
    "            fn(sample_id, *args, **kwargs)\n",
    "    button = Button(description='Save all')\n",
    "    button.on_click(lambda _: save(fn))\n",
    "    display(button)"
   ]
  },
  {
   "cell_type": "markdown",
   "metadata": {},
   "source": [
    "## Image visualisation in different colour spaces"
   ]
  },
  {
   "cell_type": "code",
   "execution_count": null,
   "metadata": {},
   "outputs": [],
   "source": [
    "@interact(id=list(imgs_small_RGB.keys()))\n",
    "def show_all_colourspaces(id):\n",
    "    fig, axs = plt.subplots(nrows=3, ncols=3, figsize=(15, 12))\n",
    "    spaces = [\n",
    "        ('RGB', imgs_small_RGB, ['R', 'G', 'B']),\n",
    "        ('HSV', imgs_small_HSV, ['H', 'S', 'V']),\n",
    "        ('LAB', imgs_small_LAB, ['L', 'A', 'B']),\n",
    "    ]\n",
    "    for row, (space, imgs, channel_names) in enumerate(spaces):\n",
    "        img = np.array(imgs[id])\n",
    "        for col in range(3):\n",
    "            ax = axs[row, col]\n",
    "            ax.imshow(img[..., col], cmap='gray')\n",
    "            ax.set_title(f'{space} - {channel_names[col]}')\n",
    "            ax.figure.colorbar(ax.images[0], ax=ax, orientation='horizontal')\n",
    "    fig.suptitle(id, fontsize=20)\n",
    "    fig.savefig(f'out/colourspaces_{id}.svg', bbox_inches='tight', transparent=True)\n",
    "    fig.savefig(f'out/colourspaces_{id}.png', bbox_inches='tight', transparent=True, dpi=300)\n",
    "\n",
    "save_button(show_all_colourspaces)"
   ]
  },
  {
   "cell_type": "markdown",
   "metadata": {},
   "source": [
    "## Image segmentation"
   ]
  },
  {
   "cell_type": "code",
   "execution_count": null,
   "metadata": {},
   "outputs": [],
   "source": [
    "mask_generator = pipeline(\n",
    "    task=\"mask-generation\",\n",
    "    model=\"facebook/sam-vit-base\",\n",
    "    device=\"cuda\",\n",
    "    points_per_crop=128,\n",
    "    pred_iou_thresh=0.2,\n",
    "    stability_score_thresh=0.2,\n",
    "    crops_nms_thresh=0.1,\n",
    "    points_per_batch=128,\n",
    ")"
   ]
  },
  {
   "cell_type": "code",
   "execution_count": null,
   "metadata": {},
   "outputs": [],
   "source": [
    "mask_file = Path(\"out/masks.pkl.gz\")\n",
    "mask_file.parent.mkdir(parents=True, exist_ok=True)\n",
    "\n",
    "if mask_file.exists():\n",
    "    with gzip.open(mask_file, \"rb\") as f:\n",
    "        masks = {\n",
    "            id: mask for id, mask in pickle.load(f).items() if id in imgs_small_RGB\n",
    "        }\n",
    "else:\n",
    "    masks = {}\n",
    "\n",
    "new_masks = {\n",
    "    id: np.array(mask_generator(img)[\"masks\"])\n",
    "    for id, img in tqdm(imgs_small_RGB.items())\n",
    "    if id not in masks\n",
    "}\n",
    "\n",
    "# Save masks to pickle file\n",
    "if new_masks:\n",
    "    masks.update(new_masks)\n",
    "    if mask_file.exists():\n",
    "        # make a backup of current mask_file with a timestamp\n",
    "        backup_file = mask_file.with_name(\n",
    "            f'{mask_file.stem}_{pd.Timestamp.now().strftime(\"%Y%m%d%H%M%S\")}{mask_file.suffix}'\n",
    "        )\n",
    "        mask_file.rename(backup_file)\n",
    "    with gzip.open(mask_file, \"wb\") as f:\n",
    "        pickle.dump(masks, f)\n",
    "{id: len(img_masks) for id, img_masks in masks.items()}"
   ]
  },
  {
   "cell_type": "markdown",
   "metadata": {},
   "source": [
    "### Convert images from PIL object to numpy arrays"
   ]
  },
  {
   "cell_type": "code",
   "execution_count": null,
   "metadata": {},
   "outputs": [],
   "source": [
    "for collection in [imgs_RGB, imgs_small_RGB, imgs_small_HSV, imgs_small_LAB]:\n",
    "    for id, img in collection.items():\n",
    "        collection[id] = np.array(img)"
   ]
  },
  {
   "cell_type": "markdown",
   "metadata": {},
   "source": [
    "## Filter masks by size and circularity\n",
    "This step will filter out part of the background, dust particles, etc. that may have been selected by the segmentation model."
   ]
  },
  {
   "cell_type": "code",
   "execution_count": null,
   "metadata": {},
   "outputs": [],
   "source": [
    "MAX_MASK_AREA = 1500\n",
    "MIN_MASK_AREA = 36\n",
    "\n",
    "masks_filtered = {\n",
    "    id: np.array(\n",
    "        [mask for mask in img_masks if MIN_MASK_AREA < mask.sum() < MAX_MASK_AREA]\n",
    "    )\n",
    "    for id, img_masks in tqdm(masks.items())\n",
    "}\n",
    "{id: len(img_masks) for id, img_masks in masks_filtered.items()}"
   ]
  },
  {
   "cell_type": "markdown",
   "metadata": {},
   "source": [
    "Knowing that the microdroplets are circular, any regions significantly deviating from circularity can also be eliminated, regardless of size."
   ]
  },
  {
   "cell_type": "code",
   "execution_count": null,
   "metadata": {},
   "outputs": [],
   "source": [
    "MIN_CIRCULARITY = 0.8\n",
    "\n",
    "def circularity(mask):\n",
    "    \"\"\"\n",
    "    Calculate the circularity of a binary mask.\n",
    "    Circularity of perfect circle: 1.0\n",
    "    \"\"\"\n",
    "    area = mask.sum()\n",
    "    p = perimeter(mask)\n",
    "    if p == 0:\n",
    "        return 0\n",
    "    return 4 * np.pi * area / (p * p)\n",
    "\n",
    "masks_filtered = {\n",
    "    id: np.array([\n",
    "        mask for mask in img_masks \n",
    "        if (MIN_MASK_AREA < mask.sum() < MAX_MASK_AREA) and \n",
    "           circularity(mask) > MIN_CIRCULARITY\n",
    "    ])\n",
    "    for id, img_masks in tqdm(masks_filtered.items())\n",
    "}\n",
    "{id: len(img_masks) for id, img_masks in masks_filtered.items()}"
   ]
  },
  {
   "cell_type": "markdown",
   "metadata": {},
   "source": [
    "## Visualising the detected region masks before and after filtering"
   ]
  },
  {
   "cell_type": "code",
   "execution_count": null,
   "metadata": {},
   "outputs": [],
   "source": [
    "@interact(id=list(masks_filtered.keys()))\n",
    "def show_masks(id):\n",
    "    fig, (img_ax, unfiltered_ax, filtered_ax) = plt.subplots(nrows=1, ncols=3, figsize=(15, 5))\n",
    "    img_ax.imshow(imgs_small_RGB[id])\n",
    "    img_ax.set_title(id)\n",
    "\n",
    "    unfiltered_mask = np.sum(masks[id], axis=0)\n",
    "    m = unfiltered_ax.imshow(\n",
    "        unfiltered_mask, cmap='gray', vmin=0, vmax=np.max(unfiltered_mask)\n",
    "    )\n",
    "    c = fig.colorbar(m, ax=unfiltered_ax, orientation='horizontal')\n",
    "    c.set_label('# regions at point')\n",
    "    c.set_ticks(np.arange(0, np.max(unfiltered_mask) + 1, 1))\n",
    "    unfiltered_ax.set_title(f'{len(masks[id])} unfiltered masks')\n",
    "    \n",
    "    filtered_mask = np.sum(masks_filtered[id], axis=0)\n",
    "    m = filtered_ax.imshow(\n",
    "        filtered_mask, cmap='gray', vmin=0, vmax=np.max(filtered_mask)\n",
    "    )\n",
    "    c = fig.colorbar(m, ax=filtered_ax, orientation='horizontal')\n",
    "    c.set_label('# regions at point')\n",
    "    c.set_ticks(np.arange(0, np.max(filtered_mask) + 1, 1))\n",
    "    filtered_ax.set_title(f'{len(masks_filtered[id])} filtered masks')\n",
    "    fig.tight_layout()\n",
    "\n",
    "    fig.savefig(f'out/masks_{id}.png', bbox_inches='tight', transparent=True)\n",
    "    fig.savefig(f'out/masks_{id}.svg', bbox_inches='tight', transparent=True)\n",
    "\n",
    "save_button(show_masks)"
   ]
  },
  {
   "cell_type": "markdown",
   "metadata": {},
   "source": [
    "# Choosing representative colours for each droplet"
   ]
  },
  {
   "cell_type": "code",
   "execution_count": null,
   "metadata": {},
   "outputs": [],
   "source": [
    "def avg_region_color(img, masks):\n",
    "    \"\"\"\n",
    "    Return the average color of the pixels in each mask.\n",
    "    \"\"\"\n",
    "    mask_pixels = [img[m] for m in masks]\n",
    "    region_pixels = np.array([m.mean(axis=0) for m in mask_pixels])\n",
    "    return region_pixels / 255"
   ]
  },
  {
   "cell_type": "code",
   "execution_count": null,
   "metadata": {},
   "outputs": [],
   "source": [
    "def max_region_color(img, masks):\n",
    "    \"\"\"\n",
    "    Return the color of the pixel with the largest norm in each mask.\n",
    "    Meant for use with RGB images only.\n",
    "    \"\"\"\n",
    "    mask_pixels = [img[m] for m in masks]\n",
    "    representative_pixel = [np.linalg.norm(pixels, axis=-1).argmax() for pixels in mask_pixels]\n",
    "    region_pixels = np.array([mask_pixels[i][representative_pixel[i]] for i in range(len(mask_pixels))])\n",
    "    return region_pixels / 255"
   ]
  },
  {
   "cell_type": "code",
   "execution_count": null,
   "metadata": {},
   "outputs": [],
   "source": [
    "def max_value_region_color(img, masks):\n",
    "    \"\"\"\n",
    "    Return the color of the pixel with the largest V (value) in each mask.\n",
    "    Meant for use with HSV images only.\n",
    "    \"\"\"\n",
    "    mask_pixels = [img[m] for m in masks]\n",
    "    # find the pixel with the largest value in the third (V) channel\n",
    "    representative_pixel = [pixels[..., 2].argmax() for pixels in mask_pixels]\n",
    "    region_pixels = np.array([mask_pixels[i][representative_pixel[i]] for i in range(len(mask_pixels))])\n",
    "    return region_pixels / 255"
   ]
  },
  {
   "cell_type": "code",
   "execution_count": null,
   "metadata": {},
   "outputs": [],
   "source": [
    "def max_sat_region_color(img, masks):\n",
    "    \"\"\"\n",
    "    Return the color of the pixel with the largest S (saturation) in each mask.\n",
    "    Meant for use with HSV images only.\n",
    "    \"\"\"\n",
    "    mask_pixels = [img[m] for m in masks]\n",
    "    representative_pixel = [pixels[..., 1].argmax() for pixels in mask_pixels]\n",
    "    region_pixels = np.array([mask_pixels[i][representative_pixel[i]] for i in range(len(mask_pixels))])\n",
    "    return region_pixels / 255"
   ]
  },
  {
   "cell_type": "code",
   "execution_count": null,
   "metadata": {},
   "outputs": [],
   "source": [
    "def max_SV_region_color(img, masks):\n",
    "    \"\"\"\n",
    "    Return the color of the pixel with the largest product of S (saturation) and V (value) in each mask.\n",
    "    Meant for use with HSV images only.\n",
    "    \"\"\"\n",
    "    mask_pixels = [img[m] for m in masks]\n",
    "    # indices of the middle 25% V pixels\n",
    "    representative_pixels = [np.argsort(pixels[..., 2])[-(pixels.shape[0] // 4):] for pixels in mask_pixels]\n",
    "    # index of max S among the top 50% V pixels\n",
    "    representative_pixel = [pixels[:, 1][representative_pixels[i]].argmax() for i, pixels in enumerate(mask_pixels)]\n",
    "    region_pixels = np.array([mask_pixels[i][representative_pixels[i][representative_pixel[i]]] for i in range(len(mask_pixels))])\n",
    "    return region_pixels / 255"
   ]
  },
  {
   "cell_type": "code",
   "execution_count": null,
   "metadata": {},
   "outputs": [],
   "source": [
    "def max_SV_AB_color(img_hsv, img_lab, masks):\n",
    "    \"\"\"\n",
    "    Return the color of the pixel with the largest product of S (saturation) and V (value) in each mask.\n",
    "    Meant for use with HSV images only.\n",
    "    \"\"\"\n",
    "    mask_pixels_hsv = [img_hsv[m] for m in masks]\n",
    "    mask_pixels_lab = [img_lab[m] for m in masks]\n",
    "    # indices of the middle 25% V pixels\n",
    "    representative_pixels = [np.argsort(pixels[..., 2])[-(pixels.shape[0] // 4):] for pixels in mask_pixels_hsv]\n",
    "    # index of max S among the top 50% V pixels\n",
    "    representative_pixel = [pixels[representative_pixels[i]][:, 1].argmax() for i, pixels in enumerate(mask_pixels_hsv)]\n",
    "    region_pixels = np.array([mask_pixels_lab[i][representative_pixels[i][representative_pixel[i]]] for i in range(len(mask_pixels_hsv))])\n",
    "    return region_pixels / 255"
   ]
  },
  {
   "cell_type": "code",
   "execution_count": null,
   "metadata": {},
   "outputs": [],
   "source": [
    "def max_SV_RGB_color(img_hsv, img_rgb, masks):\n",
    "    \"\"\"\n",
    "    Return the color of the pixel with the largest product of S (saturation) and V (value) in each mask.\n",
    "    Meant for use with HSV images only.\n",
    "    \"\"\"\n",
    "    mask_pixels_hsv = [img_hsv[m] for m in masks]\n",
    "    mask_pixels_rgb = [img_rgb[m] for m in masks]\n",
    "    # indices of the middle 25% V pixels\n",
    "    representative_pixels = [np.argsort(pixels[..., 2])[-(pixels.shape[0] // 4):] for pixels in mask_pixels_hsv]\n",
    "    # index of max S among the top 25% V pixels\n",
    "    representative_pixel = [pixels[representative_pixels[i]][:, 1].argmax() for i, pixels in enumerate(mask_pixels_hsv)]\n",
    "    region_pixels = np.array([mask_pixels_rgb[i][representative_pixels[i][representative_pixel[i]]] for i in range(len(mask_pixels_hsv))])\n",
    "    return region_pixels / 255"
   ]
  },
  {
   "cell_type": "code",
   "execution_count": null,
   "metadata": {},
   "outputs": [],
   "source": [
    "def max_V_RGB_color(img_hsv, img_rgb, masks):\n",
    "    \"\"\"\n",
    "    Return the RGB color of the pixel with the largest V (value) in each mask.\n",
    "    \"\"\"\n",
    "    mask_pixels_hsv = [img_hsv[m] for m in masks]\n",
    "    mask_pixels_rgb = [img_rgb[m] for m in masks]\n",
    "    representative_pixel = [pixels[..., 2].argmax() for pixels in mask_pixels_hsv]\n",
    "    region_pixels = np.array([mask_pixels_rgb[i][pixel] for i, pixel in enumerate(representative_pixel)])\n",
    "    return region_pixels / 255"
   ]
  },
  {
   "cell_type": "code",
   "execution_count": null,
   "metadata": {},
   "outputs": [],
   "source": [
    "def max_SV_prod_AB_color(img_hsv, img_lab, masks):\n",
    "    \"\"\"\n",
    "    Return the color of the pixel with the largest product of S (saturation) and V (value) in each mask.\n",
    "    Meant for use with HSV images only.\n",
    "    \"\"\"\n",
    "    mask_pixels_hsv = [img_hsv[m] for m in masks]\n",
    "    mask_pixels_lab = [img_lab[m] for m in masks]\n",
    "\n",
    "    representative_pixels = [np.prod(pixels[..., 1:], axis=-1).argmax() for pixels in mask_pixels_hsv]\n",
    "\n",
    "    region_pixels = np.array([mask_pixels_lab[i][representative_pixels[i]] for i in range(len(mask_pixels_hsv))])\n",
    "    return region_pixels / 255"
   ]
  },
  {
   "cell_type": "code",
   "execution_count": null,
   "metadata": {},
   "outputs": [],
   "source": [
    "def centre_region_color(img, masks):\n",
    "    \"\"\"\n",
    "    Return the color of the pixel at the centre of each mask.\n",
    "    \"\"\"\n",
    "    result = []\n",
    "    for mask in masks:\n",
    "        h, v = np.nonzero(mask)\n",
    "        h, v = int(h.mean()), int(v.mean())\n",
    "        result.append(img[h, v])\n",
    "    return np.array(result) / 255"
   ]
  },
  {
   "cell_type": "code",
   "execution_count": null,
   "metadata": {},
   "outputs": [],
   "source": [
    "def add_scalebar(ax, length, text, color='black', box=False):\n",
    "    scalebar_length = length  # plot coordinate units\n",
    "    scalebar_height = 10\n",
    "    \n",
    "    ylim = ax.get_ylim()\n",
    "    xlim = ax.get_xlim()\n",
    "    scalebar_y = ylim[0] + (ylim[1] - ylim[0])*0.1\n",
    "    scalebar_x = xlim[1] - (xlim[1] - xlim[0])*0.25\n",
    "    \n",
    "    rect = patches.Rectangle((scalebar_x, scalebar_y), \n",
    "                            scalebar_length, scalebar_height,\n",
    "                           facecolor=color,\n",
    "                           edgecolor='none',\n",
    "                           transform=ax.transData)\n",
    "    if box:\n",
    "        bg = patches.Rectangle(\n",
    "            (scalebar_x - scalebar_length/10, scalebar_y - scalebar_height*7),\n",
    "            scalebar_length*1.2, scalebar_height*10,\n",
    "            facecolor='white', edgecolor='none', alpha=0.5,\n",
    "            transform=ax.transData\n",
    "        )\n",
    "        ax.add_patch(bg)\n",
    "    ax.add_patch(rect)\n",
    "    ax.text(scalebar_x + scalebar_length/2,\n",
    "            scalebar_y - scalebar_height*1.5,\n",
    "            text, color=color, fontweight='bold',\n",
    "            horizontalalignment='center',\n",
    "            transform=ax.transData)"
   ]
  },
  {
   "cell_type": "code",
   "execution_count": null,
   "metadata": {},
   "outputs": [],
   "source": [
    "def hsv_to_rgb(hsv):\n",
    "    hsv_uint8 = (hsv * 255).astype(np.uint8)[:, None, :]\n",
    "    hsv_img = PIL.Image.fromarray(hsv_uint8, mode='HSV')\n",
    "    rgb_img = hsv_img.convert('RGB')\n",
    "    return np.array(rgb_img).astype(float)[:, 0, :] / 255\n",
    "\n",
    "\n",
    "def lab_to_rgb(lab):\n",
    "    lab_uint8 = (lab * 255).astype(np.uint8)[:, None, :]\n",
    "    lab_img = PIL.Image.fromarray(lab_uint8, mode='LAB')\n",
    "    rgb_img = lab_img.convert('RGB')\n",
    "    return np.array(rgb_img).astype(float)[:, 0, :] / 255\n",
    "\n",
    "\n",
    "def make_visualisation(colors, masks):\n",
    "    result = np.zeros((masks[0].shape[0], masks[0].shape[1], 3))\n",
    "    for mask, color in zip(masks, colors):\n",
    "        result[mask] = color\n",
    "    return result\n",
    "\n",
    "methods = {\n",
    "    'avg': lambda id: (avg_region_color(imgs_small_RGB[id], masks_filtered[id]), lambda colors: make_visualisation(colors, masks_filtered[id])),\n",
    "    'max': lambda id: (max_region_color(imgs_small_RGB[id], masks_filtered[id]), lambda colors: make_visualisation(colors, masks_filtered[id])),\n",
    "    'max_V': lambda id: (max_value_region_color(imgs_small_HSV[id], masks_filtered[id]), lambda colors: make_visualisation(hsv_to_rgb(colors), masks_filtered[id])),\n",
    "    'max_S': lambda id: (max_sat_region_color(imgs_small_HSV[id], masks_filtered[id]), lambda colors: make_visualisation(hsv_to_rgb(colors), masks_filtered[id])),\n",
    "    'max_SV': lambda id: (max_SV_region_color(imgs_small_HSV[id], masks_filtered[id]), lambda colors: make_visualisation(hsv_to_rgb(colors), masks_filtered[id])),\n",
    "    'max_SV_AB': lambda id: (max_SV_AB_color(imgs_small_HSV[id], imgs_small_LAB[id], masks_filtered[id]), lambda colors: make_visualisation(lab_to_rgb(colors), masks_filtered[id])),\n",
    "    'max_SV_RGB': lambda id: (max_SV_RGB_color(imgs_small_HSV[id], imgs_small_RGB[id], masks_filtered[id]), lambda colors: make_visualisation(colors, masks_filtered[id])),\n",
    "    'max_V_RGB': lambda id: (max_V_RGB_color(imgs_small_HSV[id], imgs_small_RGB[id], masks_filtered[id]), lambda colors: make_visualisation(colors, masks_filtered[id])),\n",
    "    'max_SV_prod_AB': lambda id: (max_SV_prod_AB_color(imgs_small_HSV[id], imgs_small_LAB[id], masks_filtered[id]), lambda colors: make_visualisation(lab_to_rgb(colors), masks_filtered[id])),\n",
    "    'centre': lambda id: (centre_region_color(imgs_small_RGB[id], masks_filtered[id]), lambda colors: make_visualisation(colors, masks_filtered[id])),\n",
    "}"
   ]
  },
  {
   "cell_type": "code",
   "execution_count": null,
   "metadata": {},
   "outputs": [],
   "source": [
    "@interact(id=list(imgs_small_RGB.keys()), ticks=True, save=False, **{**{m: False for m in methods}, 'centre': True})\n",
    "def show_image(id, ticks, save, **kwargs):\n",
    "    colors = {}\n",
    "    chosen_methods = [m for m in methods if m in kwargs and kwargs[m]]\n",
    "    nplots = len(chosen_methods) + 1\n",
    "    ncols = math.ceil(math.sqrt(nplots))\n",
    "    nrows = math.ceil(nplots / ncols)\n",
    "    fig, axs = plt.subplots(ncols=ncols, nrows=nrows, figsize=(5 * ncols, 5 * nrows), sharex=True, sharey=True, squeeze=False)\n",
    "    axs = axs.flatten()\n",
    "    axs[0].imshow(imgs_small_RGB[id])\n",
    "    for i, ax in enumerate(axs[1:]):\n",
    "        if not i < len(chosen_methods):\n",
    "            # for cases where we don't have a perfect grid\n",
    "            ax.axis('off')\n",
    "            continue\n",
    "        chosen_method = chosen_methods[i]\n",
    "        c, visualisation = methods[chosen_method](id)\n",
    "        ax.imshow(np.minimum(visualisation(c), 1.0))\n",
    "        ax.set_title(chosen_method)\n",
    "        add_scalebar(ax, 200, '200 µm', color='white')\n",
    "        colors[chosen_method] = c\n",
    "    \n",
    "    if not ticks:\n",
    "        for ax in axs:\n",
    "            ax.axis('off')\n",
    "    \n",
    "    fig.tight_layout()\n",
    "    add_scalebar(axs[0], 200, '200 µm', color='black')\n",
    "    if save:\n",
    "        fig.savefig(f'out/segment_colours_{id}.svg', bbox_inches='tight', transparent=True)\n",
    "        fig.savefig(f'out/segment_colours_{id}.png', bbox_inches='tight', transparent=True, dpi=300)\n",
    "\n",
    "    return colors\n",
    "\n",
    "save_button(show_image, False, save=True, avg=True, max_V=True, max_S=True, max_SV=True, centre=True)"
   ]
  },
  {
   "cell_type": "code",
   "execution_count": null,
   "metadata": {},
   "outputs": [],
   "source": [
    "@interact(id=list(imgs_small_RGB.keys()))\n",
    "def size_histogram(id):\n",
    "    fig, (ax_img, ax_hist) = plt.subplots(ncols=2, figsize=(8,3.5))\n",
    "    ax_img.imshow(imgs_small_RGB[id])\n",
    "    ax_img.axis('off')\n",
    "    add_scalebar(ax_img, 200, '200 µm', color='black', box=True)\n",
    "    area_pixels = masks_filtered[id].sum(axis=(1,2))\n",
    "    # 1000 px x 1000 px = 1000,000 px^2 = 1 mm^2 = 1000,000 um^2\n",
    "    area_um2 = area_pixels / 1.0\n",
    "    diameter_um = 2 * np.sqrt(area_um2 / np.pi)\n",
    "    sns.histplot(diameter_um, ax=ax_hist)\n",
    "    ax_hist.set_xlabel('Diameter (um)')\n",
    "    ax_hist.set_ylabel('Count')\n",
    "    ax_hist.set_title(id)\n",
    "    fig.tight_layout()\n",
    "    save_button = Button(description='Save')\n",
    "    fig.savefig(f'out/diameter_distribution_{id}.svg', bbox_inches='tight', transparent=True)\n",
    "    fig.savefig(f'out/diameter_distribution_{id}.png', bbox_inches='tight', transparent=True, dpi=300)\n",
    "\n",
    "save_button(size_histogram)"
   ]
  },
  {
   "cell_type": "markdown",
   "metadata": {},
   "source": [
    "### Visualizing the fitted Gaussian distributions"
   ]
  },
  {
   "cell_type": "code",
   "execution_count": null,
   "metadata": {},
   "outputs": [],
   "source": [
    "@interact(id=list(imgs_small_RGB.keys()), chosen_method=list(methods.keys()))\n",
    "def visualize_distributions(id, save=False, chosen_method='centre'):\n",
    "    colors = show_image(id, ticks=False, save=False, **{chosen_method: True})[chosen_method]\n",
    "    data = pd.DataFrame(colors, columns=['R', 'G', 'B'])\n",
    "\n",
    "    gm = GaussianMixture(n_components=N_CLUSTERS, covariance_type=\"full\")\n",
    "    fit = gm.fit(colors)\n",
    "\n",
    "    mus, covs, weights = fit.means_, fit.covariances_, fit.weights_\n",
    "\n",
    "    axs = sns.pairplot(data, markers=\".\", plot_kws={\"alpha\": 0.5})\n",
    "    axes = axs.axes\n",
    "\n",
    "    for i in range(N_CLUSTERS):\n",
    "        cluster_color = mus[i]\n",
    "        for j in range(3):\n",
    "            # For diagonal plots, show marginal distribution\n",
    "            marginal_var = covs[i, j, j]\n",
    "            x = np.linspace(0.0, 1.0, 100)\n",
    "            y = norm.pdf(x, mus[i, j], np.sqrt(marginal_var))\n",
    "            axes[j, j].plot(\n",
    "                x, y / y.max() * weights[i] / weights.max(), color=cluster_color, lw=2\n",
    "            )\n",
    "\n",
    "            for k in range(j+1, 3):\n",
    "                # For off-diagonal plots, show PDF contours using full covariance\n",
    "                cov_2d = covs[i][[j,k]][:,[j,k]]\n",
    "                mu_2d = mus[i][[j,k]]\n",
    "                \n",
    "                x, y = np.mgrid[mu_2d[0]-3*np.sqrt(cov_2d[0,0]):mu_2d[0]+3*np.sqrt(cov_2d[0,0]):100j,\n",
    "                            mu_2d[1]-3*np.sqrt(cov_2d[1,1]):mu_2d[1]+3*np.sqrt(cov_2d[1,1]):100j]\n",
    "                pos = np.dstack((x, y))\n",
    "                \n",
    "                rv = multivariate_normal(mu_2d, cov_2d)\n",
    "                z = rv.pdf(pos)\n",
    "                z /= z.max()\n",
    "                \n",
    "                z *= weights[i]\n",
    "                \n",
    "                axes[k, j].contour(x, y, z, levels=[min(weights) / 1.5], colors=[cluster_color], linewidths=2)\n",
    "\n",
    "    if save:\n",
    "        plt.savefig(f'out/pairplot_{id}_{chosen_method}_{N_CLUSTERS}clusters.svg', bbox_inches='tight', transparent=True)\n",
    "        plt.savefig(f'out/pairplot_{id}_{chosen_method}_{N_CLUSTERS}clusters.png', bbox_inches='tight', transparent=True, dpi=300)\n",
    "    \n",
    "    return colors, gm\n",
    "\n",
    "save_button(visualize_distributions, save=True)"
   ]
  },
  {
   "cell_type": "markdown",
   "metadata": {},
   "source": [
    "### Visualization of droplet identity on a 2D simplex\n",
    "\n",
    "Individual images show each droplet in the image within which it has the highest probability of belonging."
   ]
  },
  {
   "cell_type": "code",
   "execution_count": null,
   "metadata": {},
   "outputs": [],
   "source": [
    "def simplex_coords(probs):\n",
    "    \"\"\"\n",
    "    Convert three probabilities into 2D coordinates on a simplex.\n",
    "    \"\"\"\n",
    "    x = 0.5 * (2 * probs[:,1] + probs[:,2])\n",
    "    y = (np.sqrt(3)/2) * probs[:,2]\n",
    "    return x, y\n",
    "\n",
    "@interact(id=list(imgs_small_RGB.keys()), chosen_method=list(methods.keys()))\n",
    "def visualize_points(id, save=False, chosen_method='centre'):\n",
    "    colors, gm = visualize_distributions(id, save=False, chosen_method=chosen_method)\n",
    "    # Get probabilities for each point\n",
    "    probs = gm.predict_proba(colors)\n",
    "    assignment = probs.argmax(axis=-1)\n",
    "\n",
    "    # Add jitter to prevent overlapping\n",
    "    x_coords, y_coords = simplex_coords(probs) + np.random.normal(0, 0.05, size=(2, len(colors)))\n",
    "\n",
    "    fig, axes = plt.subplots(nrows=2, ncols=2, figsize=(10,10))\n",
    "\n",
    "    axes[0,0].scatter(x_coords, y_coords, color=colors, alpha=1.0, s=5)\n",
    "\n",
    "    axes[0,0].plot([0,1], [0,0], 'k-', alpha=0.5)\n",
    "    axes[0,0].plot([0,0.5], [0,np.sqrt(3)/2], 'k-', alpha=0.5)\n",
    "    axes[0,0].plot([1,0.5], [0,np.sqrt(3)/2], 'k-', alpha=0.5)\n",
    "\n",
    "    for i, axs in enumerate(axes.flatten()[1:]):\n",
    "        sum_mask = make_visualisation(colors[assignment == i], masks_filtered[id][assignment == i])\n",
    "        axs.imshow(np.minimum(sum_mask, 1.0))\n",
    "        add_scalebar(axs, 200, '200 µm', color='white')\n",
    "        axs.axis('off')\n",
    "\n",
    "    axes[0,0].axis('off')\n",
    "    fig.tight_layout(pad=0.2)\n",
    "\n",
    "    if save:\n",
    "        fig.savefig(f'out/simplex_{id}_{chosen_method}_{N_CLUSTERS}clusters.svg', bbox_inches='tight', transparent=True)\n",
    "        fig.savefig(f'out/simplex_{id}_{chosen_method}_{N_CLUSTERS}clusters.png', bbox_inches='tight', transparent=True, dpi=300)\n",
    "\n",
    "save_button(visualize_points, save=True)"
   ]
  },
  {
   "cell_type": "code",
   "execution_count": null,
   "metadata": {},
   "outputs": [],
   "source": [
    "# Gather droplet diameters for all images\n",
    "rows = []\n",
    "for image_id, masks in masks_filtered.items():\n",
    "    area_pixels = masks.sum(axis=(1,2))\n",
    "    diameter_um = 2 * np.sqrt(area_pixels / np.pi)\n",
    "    # Extract series (prefix before timestamp)\n",
    "    m = re.match(r\"(.+?) \\d{4}-\\d{2}-\\d{2}_\\d{2}-\\d{2}-\\d{2}\", image_id)\n",
    "    series = m.group(1) if m else image_id\n",
    "    for d in diameter_um:\n",
    "        rows.append({\"image_id\": image_id, \"series\": series, \"diameter\": d})\n",
    "\n",
    "sizes_df = pd.DataFrame(rows)\n",
    "\n",
    "# Sort image_id by series and timestamp for logical order\n",
    "sizes_df[\"timestamp\"] = sizes_df[\"image_id\"].str.extract(r\"(\\d{4}-\\d{2}-\\d{2}_\\d{2}-\\d{2}-\\d{2})\")\n",
    "sizes_df[\"image_id\"] = pd.Categorical(sizes_df[\"image_id\"],\n",
    "    categories=sizes_df.sort_values([\"series\", \"timestamp\"])[\"image_id\"].unique(),\n",
    "    ordered=True)\n",
    "\n",
    "series_to_sample = {\n",
    "    'ZCY-010 together': 'Acid/base 1',\n",
    "    'ZCY-009-1': 'Acid/base 2',\n",
    "    'ZCY-009-2': 'Acid/base 3',\n",
    "    'ZL-48a': 'Acid/base 4',\n",
    "    'ZL-48b': 'Acid/base 5',\n",
    "    'ZCY-014c': 'Redox',\n",
    "}\n",
    "sizes_df['experiment'] = sizes_df['series'].map(series_to_sample)\n",
    "\n",
    "droplet_counts = sizes_df.groupby(\"image_id\").size().reindex(sizes_df[\"image_id\"].cat.categories)\n",
    "\n",
    "fig = plt.figure(figsize=(0.5 * sizes_df[\"image_id\"].nunique(), 10))\n",
    "gs = gridspec.GridSpec(2, 1, height_ratios=[2, 1], hspace=0.05)\n",
    "\n",
    "# Droplet size distribution (top)\n",
    "ax0 = fig.add_subplot(gs[0])\n",
    "sns.boxenplot(data=sizes_df, x=\"timestamp\", y=\"diameter\", hue=\"experiment\", ax=ax0, dodge=False, flier_kws={\"alpha\": 0.5, \"s\": 1})\n",
    "ax0.set_title(\"Droplet size distribution per image\")\n",
    "ax0.set_xlabel(\"\")\n",
    "ax0.set_ylabel(\"Diameter (µm)\")\n",
    "ax0.tick_params(axis='x', rotation=90, labelbottom=False)\n",
    "ax0.grid(True, axis='y', linestyle='--', alpha=0.5)\n",
    "ax0.legend(title=\"Sample\", loc='upper right', bbox_to_anchor=(1, 1))\n",
    "\n",
    "# Droplet count per image (bottom)\n",
    "ax1 = fig.add_subplot(gs[1], sharex=ax0)\n",
    "ax1.bar(sizes_df[\"timestamp\"].cat.categories if hasattr(sizes_df[\"timestamp\"], 'cat') else sizes_df[\"timestamp\"].unique(), droplet_counts, color='gray', alpha=0.7)\n",
    "ax1.set_ylabel(\"Droplet count\")\n",
    "ax1.set_xlabel(\"Sample\")\n",
    "ax1.tick_params(axis='x', rotation=90)\n",
    "ax1.grid(True, axis='y', linestyle='--', alpha=0.5)\n",
    "\n",
    "plt.setp(ax0.get_xticklabels(), visible=False)\n",
    "fig.tight_layout(rect=[0, 0, 1, 1])\n",
    "fig.savefig('out/droplet_size_and_count_distribution.svg', bbox_inches='tight', transparent=True)\n",
    "fig.savefig('out/droplet_size_and_count_distribution.png', bbox_inches='tight', transparent=True, dpi=300)"
   ]
  },
  {
   "cell_type": "markdown",
   "metadata": {},
   "source": [
    "### Summary statistics table"
   ]
  },
  {
   "cell_type": "code",
   "execution_count": null,
   "metadata": {},
   "outputs": [],
   "source": [
    "def summary_stats(df, groupby):\n",
    "    return df.groupby(groupby)[\"diameter\"].agg(['count', 'mean', 'std', 'min', 'max']).round(2)\n",
    "\n",
    "from IPython.display import display, Markdown\n",
    "\n",
    "display(Markdown(\"### Summary statistics per image\"))\n",
    "display(summary_stats(sizes_df, \"image_id\"))\n",
    "display(Markdown(\"### Summary statistics per series\"))\n",
    "display(summary_stats(sizes_df, \"series\"))\n",
    "display(Markdown(\"### Overall summary statistics\"))\n",
    "display(sizes_df[\"diameter\"].agg(['count', 'mean', 'std', 'min', 'max']).round(2).to_frame().T)"
   ]
  }
 ],
 "metadata": {
  "kernelspec": {
   "display_name": ".venv",
   "language": "python",
   "name": "python3"
  },
  "language_info": {
   "codemirror_mode": {
    "name": "ipython",
    "version": 3
   },
   "file_extension": ".py",
   "mimetype": "text/x-python",
   "name": "python",
   "nbconvert_exporter": "python",
   "pygments_lexer": "ipython3",
   "version": "3.12.3"
  }
 },
 "nbformat": 4,
 "nbformat_minor": 4
}
