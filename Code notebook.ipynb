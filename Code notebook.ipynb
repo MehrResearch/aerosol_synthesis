{
 "cells": [
  {
   "cell_type": "markdown",
   "metadata": {},
   "source": [
    "# Computational imaging of aerosol reactivity outcomes"
   ]
  },
  {
   "cell_type": "code",
   "execution_count": null,
   "metadata": {},
   "outputs": [],
   "source": [
    "# Apply environment variables from .env file\n",
    "from os import environ\n",
    "\n",
    "for line in open('.env', 'r'):\n",
    "    line = line.strip()\n",
    "    if not line or line.startswith('#') or '=' not in line:\n",
    "        continue\n",
    "    var, val = line.split('=', 1)\n",
    "    environ[var] = val"
   ]
  },
  {
   "cell_type": "code",
   "execution_count": null,
   "metadata": {},
   "outputs": [],
   "source": [
    "import gzip\n",
    "import pickle\n",
    "from pathlib import Path\n",
    "\n",
    "import matplotlib\n",
    "import matplotlib.patches as patches\n",
    "import matplotlib.pyplot as plt\n",
    "import numpy as np\n",
    "import pandas as pd\n",
    "import PIL\n",
    "import seaborn as sns\n",
    "from ipywidgets import Button, Layout, interact\n",
    "from scipy.stats import multivariate_normal, norm\n",
    "from skimage.measure import perimeter\n",
    "from sklearn.mixture import GaussianMixture\n",
    "from tqdm.auto import tqdm\n",
    "from transformers import pipeline\n",
    "\n",
    "N_CLUSTERS = 3\n",
    "DATA_HOME = Path(environ['DATA_HOME'])\n",
    "\n",
    "sns.set_theme(style=\"ticks\", context=\"notebook\", font_scale=1.2, font=\"Arial\")\n",
    "matplotlib.rcParams[\"svg.fonttype\"] = \"none\""
   ]
  },
  {
   "cell_type": "code",
   "execution_count": null,
   "metadata": {},
   "outputs": [],
   "source": [
    "sample_image_files = [*(DATA_HOME / 'ZCY-14').glob('*.jpg'),\n",
    "                      *(DATA_HOME / 'ZCY-10').glob('*together*.jpg'),\n",
    "                      *(DATA_HOME / 'ZCY-9').glob('ZCY*.jpg'),\n",
    "                      ]\n",
    "sample_image_files = {p.stem: p for p in sample_image_files}\n",
    "list(sample_image_files)"
   ]
  },
  {
   "cell_type": "code",
   "execution_count": null,
   "metadata": {},
   "outputs": [],
   "source": [
    "imgs_RGB = {id: PIL.Image.open(path) for id, path in tqdm(sample_image_files.items())}\n",
    "# scaled down to 1/4 size\n",
    "imgs_small_RGB = {id: img.resize((img.width // 4, img.height // 4)) for id, img in tqdm(imgs_RGB.items())}\n",
    "imgs_HSV = {id: img.convert('HSV') for id, img in tqdm(imgs_RGB.items())}\n",
    "imgs_small_HSV = {id: img.resize((img.width // 4, img.height // 4)) for id, img in tqdm(imgs_HSV.items())}\n",
    "imgs_LAB = {id: img.convert('LAB') for id, img in tqdm(imgs_RGB.items())}\n",
    "imgs_small_LAB = {id: img.resize((img.width // 4, img.height // 4)) for id, img in tqdm(imgs_LAB.items())}"
   ]
  },
  {
   "cell_type": "markdown",
   "metadata": {},
   "source": [
    "## Image visualisation in different colour spaces"
   ]
  },
  {
   "cell_type": "code",
   "execution_count": null,
   "metadata": {},
   "outputs": [],
   "source": [
    "@interact(id=list(imgs_small_RGB.keys()), space=['RGB', 'HSV', 'LAB'])\n",
    "def show_image(id, space):\n",
    "    fig, ax = plt.subplots(nrows=1, ncols=3, figsize=(15, 5))\n",
    "    if space == 'RGB':\n",
    "        img = imgs_small_RGB[id]\n",
    "        channel_names = ['R', 'G', 'B']\n",
    "    elif space == 'HSV':\n",
    "        img = imgs_small_HSV[id]\n",
    "        channel_names = ['H', 'S', 'V']\n",
    "    elif space == 'LAB':\n",
    "        img = imgs_small_LAB[id]\n",
    "        channel_names = ['L', 'A', 'B']\n",
    "    channels = img.split()\n",
    "    for i, ax in enumerate(ax):\n",
    "        ax.imshow(channels[i], cmap='gray')\n",
    "        # colorbar\n",
    "        # make sure colorbar is not too tall\n",
    "        plt.colorbar(ax.images[0], ax=ax, orientation='horizontal')\n",
    "        ax.set_title(f'{channel_names[i]} channel')\n",
    "    fig.tight_layout()"
   ]
  },
  {
   "cell_type": "markdown",
   "metadata": {},
   "source": [
    "## Image segmentation"
   ]
  },
  {
   "cell_type": "code",
   "execution_count": null,
   "metadata": {},
   "outputs": [],
   "source": [
    "mask_generator = pipeline(\n",
    "    task=\"mask-generation\",\n",
    "    model=\"facebook/sam-vit-base\",\n",
    "    device=\"cuda\",\n",
    "    points_per_crop=64,\n",
    "    pred_iou_thresh=0.2,\n",
    "    stability_score_thresh=0.2,\n",
    "    crops_nms_thresh=0.1,\n",
    "    points_per_batch=128,\n",
    ")"
   ]
  },
  {
   "cell_type": "code",
   "execution_count": null,
   "metadata": {},
   "outputs": [],
   "source": [
    "mask_file = Path(\"out/masks.pkl.gz\")\n",
    "mask_file.parent.mkdir(parents=True, exist_ok=True)\n",
    "\n",
    "if mask_file.exists():\n",
    "    with gzip.open(mask_file, \"rb\") as f:\n",
    "        masks = {\n",
    "            id: mask for id, mask in pickle.load(f).items() if id in imgs_small_RGB\n",
    "        }\n",
    "else:\n",
    "    masks = {}\n",
    "\n",
    "new_masks = {\n",
    "    id: np.array(mask_generator(img)[\"masks\"])\n",
    "    for id, img in tqdm(imgs_small_RGB.items())\n",
    "    if id not in masks\n",
    "}\n",
    "# Save masks to pickle file\n",
    "if new_masks:\n",
    "    masks.update(new_masks)\n",
    "    if mask_file.exists():\n",
    "        # make a backup of current mask_file with a timestamp\n",
    "        backup_file = mask_file.with_name(\n",
    "            f'{mask_file.stem}_{pd.Timestamp.now().strftime(\"%Y%m%d%H%M%S\")}{mask_file.suffix}'\n",
    "        )\n",
    "        mask_file.rename(backup_file)\n",
    "    with gzip.open(mask_file, \"wb\") as f:\n",
    "        pickle.dump(masks, f)\n",
    "{id: len(img_masks) for id, img_masks in masks.items()}"
   ]
  },
  {
   "cell_type": "code",
   "execution_count": null,
   "metadata": {},
   "outputs": [],
   "source": [
    "# convert to numpy arrays\n",
    "for collection in [imgs_RGB, imgs_small_RGB, imgs_HSV, imgs_small_HSV, imgs_LAB, imgs_small_LAB]:\n",
    "    for id, img in collection.items():\n",
    "        collection[id] = np.array(img)"
   ]
  },
  {
   "cell_type": "markdown",
   "metadata": {},
   "source": [
    "## Filter masks by size and circularity\n",
    "This step will filter out part of the background, dust particles, etc. that may have been selected by the segmentation model."
   ]
  },
  {
   "cell_type": "code",
   "execution_count": null,
   "metadata": {},
   "outputs": [],
   "source": [
    "MAX_MASK_AREA = 1500\n",
    "MIN_MASK_AREA = 50\n",
    "\n",
    "masks_filtered = {\n",
    "    id: np.array(\n",
    "        [mask for mask in img_masks if MIN_MASK_AREA < mask.sum() < MAX_MASK_AREA]\n",
    "    )\n",
    "    for id, img_masks in tqdm(masks.items())\n",
    "}\n",
    "{id: len(img_masks) for id, img_masks in masks_filtered.items()}"
   ]
  },
  {
   "cell_type": "code",
   "execution_count": null,
   "metadata": {},
   "outputs": [],
   "source": [
    "MIN_CIRCULARITY = 0.8\n",
    "\n",
    "def get_circularity(mask):\n",
    "    area = mask.sum()\n",
    "    p = perimeter(mask)\n",
    "    if p == 0:\n",
    "        return 0\n",
    "    return 4 * np.pi * area / (p * p)\n",
    "\n",
    "masks_filtered = {\n",
    "    id: np.array([\n",
    "        mask for mask in img_masks \n",
    "        if (MIN_MASK_AREA < mask.sum() < MAX_MASK_AREA) and \n",
    "           get_circularity(mask) > MIN_CIRCULARITY\n",
    "    ])\n",
    "    for id, img_masks in tqdm(masks_filtered.items())\n",
    "}\n",
    "{id: len(img_masks) for id, img_masks in masks_filtered.items()}\n"
   ]
  },
  {
   "cell_type": "markdown",
   "metadata": {},
   "source": [
    "# Choosing representative colours for each droplet"
   ]
  },
  {
   "cell_type": "code",
   "execution_count": null,
   "metadata": {},
   "outputs": [],
   "source": [
    "def avg_region_color(img, masks):\n",
    "    \"\"\"\n",
    "    Return the average color of the pixels in each mask.\n",
    "    \"\"\"\n",
    "    mask_pixels = [img[m] for m in masks]\n",
    "    region_pixels = np.array([m.mean(axis=0) for m in mask_pixels])\n",
    "    return region_pixels / 255"
   ]
  },
  {
   "cell_type": "code",
   "execution_count": null,
   "metadata": {},
   "outputs": [],
   "source": [
    "def max_region_color(img, masks):\n",
    "    \"\"\"\n",
    "    Return the color of the pixel with the largest norm in each mask.\n",
    "    Meant for use with RGB images only.\n",
    "    \"\"\"\n",
    "    mask_pixels = [img[m] for m in masks]\n",
    "    representative_pixel = [np.linalg.norm(pixels, axis=-1).argmax() for pixels in mask_pixels]\n",
    "    region_pixels = np.array([mask_pixels[i][representative_pixel[i]] for i in range(len(mask_pixels))])\n",
    "    return region_pixels / 255"
   ]
  },
  {
   "cell_type": "code",
   "execution_count": null,
   "metadata": {},
   "outputs": [],
   "source": [
    "def max_value_region_color(img, masks):\n",
    "    \"\"\"\n",
    "    Return the color of the pixel with the largest V (value) in each mask.\n",
    "    Meant for use with HSV images only.\n",
    "    \"\"\"\n",
    "    mask_pixels = [img[m] for m in masks]\n",
    "    # find the pixel with the largest value in the third (V) channel\n",
    "    representative_pixel = [pixels[..., 2].argmax() for pixels in mask_pixels]\n",
    "    region_pixels = np.array([mask_pixels[i][representative_pixel[i]] for i in range(len(mask_pixels))])\n",
    "    return region_pixels / 255"
   ]
  },
  {
   "cell_type": "code",
   "execution_count": null,
   "metadata": {},
   "outputs": [],
   "source": [
    "def max_sat_region_color(img, masks):\n",
    "    \"\"\"\n",
    "    Return the color of the pixel with the largest S (saturation) in each mask.\n",
    "    Meant for use with HSV images only.\n",
    "    \"\"\"\n",
    "    mask_pixels = [img[m] for m in masks]\n",
    "    representative_pixel = [pixels[..., 1].argmax() for pixels in mask_pixels]\n",
    "    region_pixels = np.array([mask_pixels[i][representative_pixel[i]] for i in range(len(mask_pixels))])\n",
    "    return region_pixels / 255"
   ]
  },
  {
   "cell_type": "code",
   "execution_count": null,
   "metadata": {},
   "outputs": [],
   "source": [
    "def max_SV_region_color(img, masks):\n",
    "    \"\"\"\n",
    "    Return the color of the pixel with the largest product of S (saturation) and V (value) in each mask.\n",
    "    Meant for use with HSV images only.\n",
    "    \"\"\"\n",
    "    mask_pixels = [img[m] for m in masks]\n",
    "    # indices of the middle 25% V pixels\n",
    "    representative_pixels = [np.argsort(pixels[..., 2])[-(pixels.shape[0] // 4):] for pixels in mask_pixels]\n",
    "    # index of max S among the top 50% V pixels\n",
    "    representative_pixel = [pixels[:, 1][representative_pixels[i]].argmax() for i, pixels in enumerate(mask_pixels)]\n",
    "    region_pixels = np.array([mask_pixels[i][representative_pixels[i][representative_pixel[i]]] for i in range(len(mask_pixels))])\n",
    "    return region_pixels / 255"
   ]
  },
  {
   "cell_type": "code",
   "execution_count": null,
   "metadata": {},
   "outputs": [],
   "source": [
    "def max_SV_AB_color(img_hsv, img_lab, masks):\n",
    "    \"\"\"\n",
    "    Return the color of the pixel with the largest product of S (saturation) and V (value) in each mask.\n",
    "    Meant for use with HSV images only.\n",
    "    \"\"\"\n",
    "    mask_pixels_hsv = [img_hsv[m] for m in masks]\n",
    "    mask_pixels_lab = [img_lab[m] for m in masks]\n",
    "    # indices of the middle 25% V pixels\n",
    "    representative_pixels = [np.argsort(pixels[..., 2])[-(pixels.shape[0] // 4):] for pixels in mask_pixels_hsv]\n",
    "    # index of max S among the top 50% V pixels\n",
    "    representative_pixel = [pixels[representative_pixels[i]][:, 1].argmax() for i, pixels in enumerate(mask_pixels_hsv)]\n",
    "    region_pixels = np.array([mask_pixels_lab[i][representative_pixels[i][representative_pixel[i]]] for i in range(len(mask_pixels_hsv))])\n",
    "    return region_pixels / 255"
   ]
  },
  {
   "cell_type": "code",
   "execution_count": null,
   "metadata": {},
   "outputs": [],
   "source": [
    "def max_SV_RGB_color(img_hsv, img_rgb, masks):\n",
    "    \"\"\"\n",
    "    Return the color of the pixel with the largest product of S (saturation) and V (value) in each mask.\n",
    "    Meant for use with HSV images only.\n",
    "    \"\"\"\n",
    "    mask_pixels_hsv = [img_hsv[m] for m in masks]\n",
    "    mask_pixels_rgb = [img_rgb[m] for m in masks]\n",
    "    # indices of the middle 25% V pixels\n",
    "    representative_pixels = [np.argsort(pixels[..., 2])[-(pixels.shape[0] // 4):] for pixels in mask_pixels_hsv]\n",
    "    # index of max S among the top 25% V pixels\n",
    "    representative_pixel = [pixels[representative_pixels[i]][:, 1].argmax() for i, pixels in enumerate(mask_pixels_hsv)]\n",
    "    region_pixels = np.array([mask_pixels_rgb[i][representative_pixels[i][representative_pixel[i]]] for i in range(len(mask_pixels_hsv))])\n",
    "    return region_pixels / 255"
   ]
  },
  {
   "cell_type": "code",
   "execution_count": null,
   "metadata": {},
   "outputs": [],
   "source": [
    "def max_V_RGB_color(img_hsv, img_rgb, masks):\n",
    "    \"\"\"\n",
    "    Return the RGB color of the pixel with the largest V (value) in each mask.\n",
    "    \"\"\"\n",
    "    mask_pixels_hsv = [img_hsv[m] for m in masks]\n",
    "    mask_pixels_rgb = [img_rgb[m] for m in masks]\n",
    "    representative_pixel = [pixels[..., 2].argmax() for pixels in mask_pixels_hsv]\n",
    "    region_pixels = np.array([mask_pixels_rgb[i][pixel] for i, pixel in enumerate(representative_pixel)])\n",
    "    return region_pixels / 255"
   ]
  },
  {
   "cell_type": "code",
   "execution_count": null,
   "metadata": {},
   "outputs": [],
   "source": [
    "def max_SV_prod_AB_color(img_hsv, img_lab, masks):\n",
    "    \"\"\"\n",
    "    Return the color of the pixel with the largest product of S (saturation) and V (value) in each mask.\n",
    "    Meant for use with HSV images only.\n",
    "    \"\"\"\n",
    "    mask_pixels_hsv = [img_hsv[m] for m in masks]\n",
    "    mask_pixels_lab = [img_lab[m] for m in masks]\n",
    "\n",
    "    representative_pixels = [np.prod(pixels[..., 1:], axis=-1).argmax() for pixels in mask_pixels_hsv]\n",
    "\n",
    "    region_pixels = np.array([mask_pixels_lab[i][representative_pixels[i]] for i in range(len(mask_pixels_hsv))])\n",
    "    return region_pixels / 255"
   ]
  },
  {
   "cell_type": "code",
   "execution_count": null,
   "metadata": {},
   "outputs": [],
   "source": [
    "def centre_region_color(img, masks):\n",
    "    \"\"\"\n",
    "    Return the color of the pixel at the centre of each mask.\n",
    "    \"\"\"\n",
    "    result = []\n",
    "    for mask in masks:\n",
    "        h, v = np.nonzero(mask)\n",
    "        h, v = int(h.mean()), int(v.mean())\n",
    "        result.append(img[h, v])\n",
    "    return np.array(result) / 255"
   ]
  },
  {
   "cell_type": "code",
   "execution_count": null,
   "metadata": {},
   "outputs": [],
   "source": [
    "def add_scalebar(ax, length, text, color='black'):\n",
    "    scalebar_length = length  # plot coordinate units\n",
    "    scalebar_height = 10\n",
    "    \n",
    "    ylim = ax.get_ylim()\n",
    "    xlim = ax.get_xlim()\n",
    "    scalebar_y = ylim[0] + (ylim[1] - ylim[0])*0.1\n",
    "    scalebar_x = xlim[1] - (xlim[1] - xlim[0])*0.25\n",
    "    \n",
    "    rect = patches.Rectangle((scalebar_x, scalebar_y), \n",
    "                            scalebar_length, scalebar_height,\n",
    "                           facecolor=color,\n",
    "                           edgecolor='none',\n",
    "                           transform=ax.transData)\n",
    "    ax.add_patch(rect)\n",
    "    ax.text(scalebar_x + scalebar_length/2,\n",
    "            scalebar_y - scalebar_height*1.5,\n",
    "            text, color=color, fontweight='bold',\n",
    "            horizontalalignment='center',\n",
    "            transform=ax.transData)"
   ]
  },
  {
   "cell_type": "code",
   "execution_count": null,
   "metadata": {},
   "outputs": [],
   "source": [
    "def hsv_to_rgb(hsv):\n",
    "    hsv_uint8 = (hsv * 255).astype(np.uint8)[:, None, :]\n",
    "    hsv_img = PIL.Image.fromarray(hsv_uint8, mode='HSV')\n",
    "    rgb_img = hsv_img.convert('RGB')\n",
    "    return np.array(rgb_img).astype(float)[:, 0, :] / 255\n",
    "\n",
    "\n",
    "def lab_to_rgb(lab):\n",
    "    lab_uint8 = (lab * 255).astype(np.uint8)[:, None, :]\n",
    "    lab_img = PIL.Image.fromarray(lab_uint8, mode='LAB')\n",
    "    rgb_img = lab_img.convert('RGB')\n",
    "    return np.array(rgb_img).astype(float)[:, 0, :] / 255\n",
    "\n",
    "\n",
    "def make_visualisation(colors, masks):\n",
    "    result = np.zeros((masks[0].shape[0], masks[0].shape[1], 3))\n",
    "    for mask, color in zip(masks, colors):\n",
    "        result[mask] = color\n",
    "    return result\n",
    "\n",
    "methods = {\n",
    "    'avg': lambda id: (avg_region_color(imgs_small_RGB[id], masks_filtered[id]), lambda colors: make_visualisation(colors, masks_filtered[id])),\n",
    "    'max': lambda id: (max_region_color(imgs_small_RGB[id], masks_filtered[id]), lambda colors: make_visualisation(colors, masks_filtered[id])),\n",
    "    'max_V': lambda id: (max_value_region_color(imgs_small_HSV[id], masks_filtered[id]), lambda colors: make_visualisation(hsv_to_rgb(colors), masks_filtered[id])),\n",
    "    'max_S': lambda id: (max_sat_region_color(imgs_small_HSV[id], masks_filtered[id]), lambda colors: make_visualisation(hsv_to_rgb(colors), masks_filtered[id])),\n",
    "    'max_SV': lambda id: (max_SV_region_color(imgs_small_HSV[id], masks_filtered[id]), lambda colors: make_visualisation(hsv_to_rgb(colors), masks_filtered[id])),\n",
    "    'max_SV_AB': lambda id: (max_SV_AB_color(imgs_small_HSV[id], imgs_small_LAB[id], masks_filtered[id]), lambda colors: make_visualisation(lab_to_rgb(colors), masks_filtered[id])),\n",
    "    'max_SV_RGB': lambda id: (max_SV_RGB_color(imgs_small_HSV[id], imgs_small_RGB[id], masks_filtered[id]), lambda colors: make_visualisation(colors, masks_filtered[id])),\n",
    "    'max_V_RGB': lambda id: (max_V_RGB_color(imgs_small_HSV[id], imgs_small_RGB[id], masks_filtered[id]), lambda colors: make_visualisation(colors, masks_filtered[id])),\n",
    "    'max_SV_prod_AB': lambda id: (max_SV_prod_AB_color(imgs_small_HSV[id], imgs_small_LAB[id], masks_filtered[id]), lambda colors: make_visualisation(lab_to_rgb(colors), masks_filtered[id])),\n",
    "    'centre': lambda id: (centre_region_color(imgs_small_RGB[id], masks_filtered[id]), lambda colors: make_visualisation(colors, masks_filtered[id])),\n",
    "}\n",
    "\n",
    "\n",
    "@interact(id=list(imgs_small_RGB.keys()), ticks=True, **{m: False for m in methods})\n",
    "def show_image(id, ticks, **kwargs):\n",
    "    # global chosen_id, chosen_method, colors\n",
    "    chosen_methods = [m for m in methods if kwargs[m]]\n",
    "    nplots = len(chosen_methods) + 1\n",
    "    ncols = math.ceil(math.sqrt(nplots))\n",
    "    nrows = math.ceil(nplots / ncols)\n",
    "    fig, axs = plt.subplots(ncols=ncols, nrows=nrows, figsize=(5 * ncols, 5 * nrows), sharex=True, sharey=True, squeeze=False)\n",
    "    axs = axs.flatten()\n",
    "    axs[0].imshow(imgs_small_RGB[id])\n",
    "    for i, ax in enumerate(axs[1:]):\n",
    "        if not i < len(chosen_methods):\n",
    "            print(f'hiding axis {i}')\n",
    "            ax.axis('off')\n",
    "            continue\n",
    "        method = chosen_methods[i]\n",
    "        colors, visualisation = methods[method](id)\n",
    "        ax.imshow(np.minimum(visualisation(colors), 1.0))\n",
    "        ax.set_title(method)\n",
    "        add_scalebar(ax, 200, '200 µm', color='white')\n",
    "    \n",
    "    if not ticks:\n",
    "        for ax in axs:\n",
    "            ax.axis('off')\n",
    "    \n",
    "    fig.tight_layout()\n",
    "    save_button = Button(description='Save', layout=Layout(width='100px'))\n",
    "    save_button.on_click(lambda b: fig.savefig(f'out/{id}_segment_colours.svg', bbox_inches='tight', transparent=True))\n",
    "    display(save_button)\n",
    "\n",
    "    add_scalebar(axs[0], 200, '200 µm', color='black')\n",
    "    fig.tight_layout()"
   ]
  },
  {
   "cell_type": "code",
   "execution_count": null,
   "metadata": {},
   "outputs": [],
   "source": [
    "@interact(id=list(imgs_small_RGB.keys()))\n",
    "def size_histogram(id):\n",
    "    fig, ax = plt.subplots(figsize=(6,5))\n",
    "    area_pixels = masks_filtered[id].sum(axis=(1,2))\n",
    "    # 1000 px x 1000 px = 1000,000 px^2 = 1 mm^2 = 1000,000 um^2\n",
    "    area_um2 = area_pixels / 1.0\n",
    "    diameter_um = 2 * np.sqrt(area_um2 / np.pi)\n",
    "    sns.histplot(diameter_um, ax=ax)\n",
    "    ax.set_xlabel('Diameter (um)')\n",
    "    ax.set_ylabel('Count')\n",
    "    ax.set_title(id)\n",
    "    save_button = Button(description='Save')\n",
    "    save_button.on_click(lambda b: fig.savefig(f'out/diameter_distribution_{id}.svg', bbox_inches='tight', transparent=True))\n",
    "    display(save_button)"
   ]
  },
  {
   "cell_type": "code",
   "execution_count": null,
   "metadata": {},
   "outputs": [],
   "source": [
    "data = pd.DataFrame(colors, columns=['R', 'G', 'B'])\n",
    "sns.pairplot(data, markers='.')\n",
    "gm = GaussianMixture(n_components=4)\n",
    "fit = gm.fit(data)\n",
    "results = (fit.means_, fit.covariances_, fit.weights_, fit.predict_proba(data))"
   ]
  },
  {
   "cell_type": "markdown",
   "metadata": {},
   "source": [
    "### Visualizing the Gaussian distributions"
   ]
  },
  {
   "cell_type": "code",
   "execution_count": null,
   "metadata": {},
   "outputs": [],
   "source": [
    "gm = GaussianMixture(n_components=N_CLUSTERS, covariance_type=\"full\")\n",
    "fit = gm.fit(colors)\n",
    "\n",
    "mus, covs, weights = fit.means_, fit.covariances_, fit.weights_\n",
    "\n",
    "axs = sns.pairplot(data, markers=\".\", plot_kws={\"alpha\": 0.5})\n",
    "\n",
    "# Get the pairplot axes\n",
    "axes = axs.axes\n",
    "\n",
    "for i in range(N_CLUSTERS):\n",
    "    cluster_color = mus[i]\n",
    "    for j in range(3):\n",
    "        # For diagonal plots, show marginal distribution\n",
    "        marginal_var = covs[i, j, j]\n",
    "        x = np.linspace(0.0, 1.0, 100)\n",
    "        y = norm.pdf(x, mus[i, j], np.sqrt(marginal_var))\n",
    "        axes[j, j].plot(\n",
    "            x, y / y.max() * weights[i] / weights.max(), color=cluster_color, lw=2\n",
    "        )\n",
    "\n",
    "        for k in range(j+1, 3):\n",
    "                \n",
    "            # For off-diagonal plots, show PDF contours using full covariance\n",
    "            cov_2d = covs[i][[j,k]][:,[j,k]]\n",
    "            mu_2d = mus[i][[j,k]]\n",
    "            \n",
    "            # Create grid of points\n",
    "            x, y = np.mgrid[mu_2d[0]-3*np.sqrt(cov_2d[0,0]):mu_2d[0]+3*np.sqrt(cov_2d[0,0]):100j,\n",
    "                           mu_2d[1]-3*np.sqrt(cov_2d[1,1]):mu_2d[1]+3*np.sqrt(cov_2d[1,1]):100j]\n",
    "            pos = np.dstack((x, y))\n",
    "            \n",
    "            # Calculate PDF\n",
    "            rv = multivariate_normal(mu_2d, cov_2d)\n",
    "            z = rv.pdf(pos)\n",
    "            z /= z.max()\n",
    "            \n",
    "            # Scale by component weight\n",
    "            z *= weights[i]\n",
    "            \n",
    "            # Draw contour\n",
    "            axes[k, j].contour(x, y, z, levels=[min(weights) / 1.5], colors=[cluster_color], linewidths=2)\n",
    "\n",
    "plt.savefig(f'out/pairplot_{chosen_id}_{chosen_method}_{N_CLUSTERS}clusters.svg', bbox_inches='tight', transparent=True)"
   ]
  },
  {
   "cell_type": "markdown",
   "metadata": {},
   "source": [
    "### Visualization of droplet identity on a 2D simplex"
   ]
  },
  {
   "cell_type": "code",
   "execution_count": null,
   "metadata": {},
   "outputs": [],
   "source": [
    "# Get probabilities for each point\n",
    "probs = gm.predict_proba(colors)\n",
    "assignment = probs.argmax(axis=-1)\n",
    "\n",
    "def simplex_coords(probs):\n",
    "    x = 0.5 * (2 * probs[:,1] + probs[:,2])\n",
    "    y = (np.sqrt(3)/2) * probs[:,2]\n",
    "    return x, y\n",
    "\n",
    "# Get coordinates for each point\n",
    "x_coords, y_coords = simplex_coords(probs) + np.random.normal(0, 0.05, size=(2, len(colors)))\n",
    "\n",
    "# Create figure\n",
    "fig, axes = plt.subplots(nrows=2, ncols=2, figsize=(10,10))\n",
    "\n",
    "# Plot points colored by their RGB values\n",
    "axes[0,0].scatter(x_coords, y_coords, color=colors, alpha=1.0, s=5)\n",
    "\n",
    "axes[0,0].plot([0,1], [0,0], 'k-', alpha=0.5)\n",
    "axes[0,0].plot([0,0.5], [0,np.sqrt(3)/2], 'k-', alpha=0.5)\n",
    "axes[0,0].plot([1,0.5], [0,np.sqrt(3)/2], 'k-', alpha=0.5)\n",
    "\n",
    "for i, axs in enumerate(axes.flatten()[1:]):\n",
    "    sum_mask = make_visualisation(colors[assignment == i], masks_filtered[chosen_id][assignment == i])\n",
    "    axs.imshow(np.minimum(sum_mask, 1.0))\n",
    "    add_scalebar(axs, 200, '200 µm', color='white')\n",
    "    axs.axis('off')\n",
    "\n",
    "axes[0,0].axis('off')\n",
    "fig.tight_layout(pad=0.2)\n",
    "fig.savefig(f'out/simplex_{chosen_id}_{chosen_method}_{N_CLUSTERS}clusters.svg', bbox_inches='tight', transparent=True)"
   ]
  }
 ],
 "metadata": {
  "kernelspec": {
   "display_name": ".venv",
   "language": "python",
   "name": "python3"
  },
  "language_info": {
   "codemirror_mode": {
    "name": "ipython",
    "version": 3
   },
   "file_extension": ".py",
   "mimetype": "text/x-python",
   "name": "python",
   "nbconvert_exporter": "python",
   "pygments_lexer": "ipython3",
   "version": "3.12.8"
  }
 },
 "nbformat": 4,
 "nbformat_minor": 4
}
